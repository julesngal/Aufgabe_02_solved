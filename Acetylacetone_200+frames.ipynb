{
 "cells": [
  {
   "cell_type": "code",
   "execution_count": 377,
   "metadata": {},
   "outputs": [],
   "source": [
    "from simtk.openmm.app import*\n",
    "from openforcefield.utils import*"
   ]
  },
  {
   "cell_type": "code",
   "execution_count": 378,
   "metadata": {},
   "outputs": [],
   "source": [
    "from simtk.openmm.app import PDBFile\n",
    "from openforcefield.utils import get_data_file_path"
   ]
  },
  {
   "cell_type": "code",
   "execution_count": 379,
   "metadata": {},
   "outputs": [
    {
     "name": "stdout",
     "output_type": "stream",
     "text": [
      "Acetylacetone_04_July.py        Acetylacetone_mdtraj.ipynb\r\n",
      "Acetylacetone_10_frames.ipynb   Acetylacetone.pdb\r\n",
      "Acetylacetone_200+frames.ipynb  \u001b[0m\u001b[38;5;13mCC minimized.png\u001b[0m\r\n",
      "Acetylacetone Exp-Copy1.ipynb   README.md\r\n",
      "Acetylacetone Exp-Copy.ipynb\r\n"
     ]
    }
   ],
   "source": [
    "ls"
   ]
  },
  {
   "cell_type": "code",
   "execution_count": 380,
   "metadata": {},
   "outputs": [
    {
     "name": "stdout",
     "output_type": "stream",
     "text": [
      "<simtk.openmm.app.pdbfile.PDBFile object at 0x7f1586b80750>\n"
     ]
    }
   ],
   "source": [
    "import os\n",
    "\n",
    "pdb_file_path = os.path.join('Acetylacetone.pdb')\n",
    "pdbfile = PDBFile(pdb_file_path)\n",
    "\n",
    "# I got the pdb file from\n",
    "# https://www.ebi.ac.uk/pdbe-srv/pdbechem/chemicalCompound/show/P2D\n",
    "# renamed it, then I manually moved it to the data directory of openforcefield.\n",
    "\n",
    "print(pdbfile)"
   ]
  },
  {
   "cell_type": "code",
   "execution_count": null,
   "metadata": {},
   "outputs": [],
   "source": []
  },
  {
   "cell_type": "code",
   "execution_count": 381,
   "metadata": {},
   "outputs": [
    {
     "name": "stdout",
     "output_type": "stream",
     "text": [
      "Molecule with name '' and SMILES '[H][C]([H])([H])[C](=[O])[C]([H])([H])[C](=[O])[C]([H])([H])[H]'\n"
     ]
    }
   ],
   "source": [
    "from openforcefield.topology import Molecule\n",
    "acetylacetone = Molecule.from_smiles('O=C(C)CC(=O)C')\n",
    "print(acetylacetone)\n",
    "\n",
    "# I got the SMILES-code from:\n",
    "# https://en.wikipedia.org/wiki/Acetylacetone"
   ]
  },
  {
   "cell_type": "code",
   "execution_count": 382,
   "metadata": {
    "scrolled": true
   },
   "outputs": [
    {
     "name": "stdout",
     "output_type": "stream",
     "text": [
      "Acetylacetone.pdb\n"
     ]
    }
   ],
   "source": [
    "print (pdb_file_path)"
   ]
  },
  {
   "cell_type": "code",
   "execution_count": 383,
   "metadata": {},
   "outputs": [
    {
     "name": "stderr",
     "output_type": "stream",
     "text": [
      "Warning: In AmberToolsToolkitwrapper.compute_partial_charges_am1bcc: Molecule '' has more than one conformer, but this function will only generate charges for the first one.\n"
     ]
    }
   ],
   "source": [
    "from openforcefield.topology import *\n",
    "from openforcefield.typing.engines.smirnoff import ForceField\n",
    "\n",
    "omm_topology =  pdbfile.topology\n",
    "off_topology = Topology.from_openmm(omm_topology, unique_molecules=[acetylacetone])\n",
    "\n",
    "forcefield = ForceField('openff-1.0.0.offxml')\n",
    "\n",
    "system = forcefield.create_openmm_system(off_topology)\n"
   ]
  },
  {
   "cell_type": "code",
   "execution_count": null,
   "metadata": {},
   "outputs": [],
   "source": []
  },
  {
   "cell_type": "code",
   "execution_count": 384,
   "metadata": {},
   "outputs": [],
   "source": [
    "from simtk import *\n",
    "\n",
    "# Langevin Dynamics:\n",
    "time_step = 2*unit.femtoseconds\n",
    "temperature = 300*unit.kelvin\n",
    "friction = 1/unit.picosecond # collision rate\n",
    "integrator = openmm.LangevinIntegrator(temperature, friction, time_step)\n",
    "\n",
    "# Lenghth of simulation:\n",
    "num_steps = 1000\n",
    "\n",
    "trj_freq = 1 # number of steps per written trajectory frame\n",
    "data_freq = 1 #number of steps per fritten simulation statistics\n",
    "\n",
    "# Set up OpenMM simulation:\n",
    "simulation = openmm.app.Simulation (omm_topology, system, integrator)\n",
    "\n",
    "# initial positions:\n",
    "positions = pdbfile.getPositions()\n",
    "simulation.context.setPositions(positions)\n",
    "\n",
    "# Randomize the velocities from a Boltzmann distribution at a given temperature.\n",
    "simulation.context.setVelocitiesToTemperature(temperature)\n",
    "\n",
    "# MINIMIZE ENERGY: I deleted this line to get the non-minimized values:\n",
    "simulation.minimizeEnergy()\n",
    "minimized_coords = simulation.context.getState(getPositions=True).getPositions()\n",
    "minimized_forces = simulation.context.getState(getForces=True).getForces()\n",
    "\n",
    "# Configure information in output files:\n",
    "pdb_reporter = openmm.app.PDBReporter('trajectory.pdb', trj_freq)\n",
    "state_data_reporter = openmm.app.StateDataReporter ('data.csv', data_freq, step=True, potentialEnergy=True, temperature=True, density=True)\n",
    "simulation.reporters.append (pdb_reporter)\n",
    "simulation.reporters.append (state_data_reporter)\n",
    "DCDReporter = openmm.app.DCDReporter ('traj.dcd', reportInterval=1)\n",
    "simulation.reporters.append (DCDReporter)"
   ]
  },
  {
   "cell_type": "code",
   "execution_count": 385,
   "metadata": {
    "scrolled": true
   },
   "outputs": [
    {
     "name": "stdout",
     "output_type": "stream",
     "text": [
      "Help on class DCDReporter in module simtk.openmm.app.dcdreporter:\n",
      "\n",
      "class DCDReporter(builtins.object)\n",
      " |  DCDReporter(file, reportInterval, append=False, enforcePeriodicBox=None)\n",
      " |  \n",
      " |  DCDReporter outputs a series of frames from a Simulation to a DCD file.\n",
      " |  \n",
      " |  To use it, create a DCDReporter, then add it to the Simulation's list of reporters.\n",
      " |  \n",
      " |  Methods defined here:\n",
      " |  \n",
      " |  __del__(self)\n",
      " |  \n",
      " |  __init__(self, file, reportInterval, append=False, enforcePeriodicBox=None)\n",
      " |      Create a DCDReporter.\n",
      " |      \n",
      " |      Parameters\n",
      " |      ----------\n",
      " |      file : string\n",
      " |          The file to write to\n",
      " |      reportInterval : int\n",
      " |          The interval (in time steps) at which to write frames\n",
      " |      append : bool=False\n",
      " |          If True, open an existing DCD file to append to.  If False, create a new file.\n",
      " |      enforcePeriodicBox: bool\n",
      " |          Specifies whether particle positions should be translated so the center of every molecule\n",
      " |          lies in the same periodic box.  If None (the default), it will automatically decide whether\n",
      " |          to translate molecules based on whether the system being simulated uses periodic boundary\n",
      " |          conditions.\n",
      " |  \n",
      " |  describeNextReport(self, simulation)\n",
      " |      Get information about the next report this object will generate.\n",
      " |      \n",
      " |      Parameters\n",
      " |      ----------\n",
      " |      simulation : Simulation\n",
      " |          The Simulation to generate a report for\n",
      " |      \n",
      " |      Returns\n",
      " |      -------\n",
      " |      tuple\n",
      " |          A six element tuple. The first element is the number of steps\n",
      " |          until the next report. The next four elements specify whether\n",
      " |          that report will require positions, velocities, forces, and\n",
      " |          energies respectively.  The final element specifies whether\n",
      " |          positions should be wrapped to lie in a single periodic box.\n",
      " |  \n",
      " |  report(self, simulation, state)\n",
      " |      Generate a report.\n",
      " |      \n",
      " |      Parameters\n",
      " |      ----------\n",
      " |      simulation : Simulation\n",
      " |          The Simulation to generate a report for\n",
      " |      state : State\n",
      " |          The current state of the simulation\n",
      " |  \n",
      " |  ----------------------------------------------------------------------\n",
      " |  Data descriptors defined here:\n",
      " |  \n",
      " |  __dict__\n",
      " |      dictionary for instance variables (if defined)\n",
      " |  \n",
      " |  __weakref__\n",
      " |      list of weak references to the object (if defined)\n",
      "\n"
     ]
    }
   ],
   "source": [
    "help (openmm.app.DCDReporter)"
   ]
  },
  {
   "cell_type": "code",
   "execution_count": 386,
   "metadata": {},
   "outputs": [
    {
     "name": "stdout",
     "output_type": "stream",
     "text": [
      "Starting simulation\n",
      "Elapsed time 0.75 seconds\n",
      "Hurra!\n"
     ]
    }
   ],
   "source": [
    "import time\n",
    "\n",
    "print(\"Starting simulation\")\n",
    "start = time.process_time()\n",
    "\n",
    "# Run the simulation\n",
    "simulation.step(num_steps)\n",
    "\n",
    "end = time.process_time()\n",
    "print(\"Elapsed time %.2f seconds\" % (end-start))\n",
    "print(\"Hurra!\")"
   ]
  },
  {
   "cell_type": "code",
   "execution_count": 387,
   "metadata": {
    "scrolled": true
   },
   "outputs": [],
   "source": [
    "ff_applied_parameters = forcefield.label_molecules(off_topology)[0]\n",
    "ff_values=[]\n",
    "ff_valuefile = open ('ff_valuefile.txt', 'w+')\n",
    "\n",
    "for atoms, bonds in ff_applied_parameters['Bonds'].items():\n",
    "    ff_valuefile.write (F'{atoms},{bonds}')\n",
    "    ff_valuefile.write ('\\n')\n",
    "    \n",
    "ff_valuefile.close()"
   ]
  },
  {
   "cell_type": "code",
   "execution_count": 388,
   "metadata": {},
   "outputs": [
    {
     "data": {
      "text/plain": [
       "<function TextIOWrapper.close()>"
      ]
     },
     "execution_count": 388,
     "metadata": {},
     "output_type": "execute_result"
    }
   ],
   "source": [
    "import numpy\n",
    "\n",
    "ff_valuefile = open ('ff_valuefile.txt', 'r')\n",
    "\n",
    "ff_valuetab = numpy.genfromtxt(fname=ff_valuefile, dtype='unicode', delimiter='Lenght')\n",
    "\n",
    "ff_valuefile.close\n"
   ]
  },
  {
   "cell_type": "code",
   "execution_count": null,
   "metadata": {},
   "outputs": [],
   "source": []
  },
  {
   "cell_type": "markdown",
   "metadata": {},
   "source": [
    "import numpy\n",
    "import os\n",
    "\n",
    "mincoorfile = os.path.join('trajectory.pdb')\n",
    "\n",
    "mincoor = numpy.genfromtxt(fname=mincoorfile, skip_header=2, skip_footer=2, dtype='unicode')\n",
    "\n",
    "print (mincoor)"
   ]
  },
  {
   "cell_type": "markdown",
   "metadata": {},
   "source": [
    "xyz_data = mincoor[:,6:9]\n",
    "xyz_data = xyz_data.astype(numpy.float)\n",
    "print (xyz_data)\n",
    "\n",
    "xa = xyz_data[man_atom_a,0]\n",
    "xb = xyz_data[man_atom_b,0]\n",
    "ya = xyz_data[man_atom_a,1]\n",
    "yb = xyz_data[man_atom_b,1]\n",
    "za = xyz_data[man_atom_a,2]\n",
    "zb = xyz_data[man_atom_b,2]"
   ]
  },
  {
   "cell_type": "markdown",
   "metadata": {},
   "source": [
    "bondlength_min=numpy.sqrt(((xa-xb)**2)+((ya-yb)**2)+((za-zb)**2))\n",
    "\n",
    "print (bondlength_min)    "
   ]
  },
  {
   "cell_type": "code",
   "execution_count": 389,
   "metadata": {},
   "outputs": [
    {
     "name": "stdout",
     "output_type": "stream",
     "text": [
      "<mdtraj.Trajectory with 1000 frames, 15 atoms, 1 residues, without unitcells>\n"
     ]
    }
   ],
   "source": [
    "import mdtraj as md\n",
    "\n",
    "t = md.load('traj.dcd', top='Acetylacetone.pdb')\n",
    "print(t)"
   ]
  },
  {
   "cell_type": "code",
   "execution_count": 390,
   "metadata": {},
   "outputs": [
    {
     "name": "stdout",
     "output_type": "stream",
     "text": [
      "How many atoms? 15\n"
     ]
    }
   ],
   "source": [
    "from __future__ import print_function\n",
    "print('How many atoms? %s' %t.n_atoms)"
   ]
  },
  {
   "cell_type": "code",
   "execution_count": 391,
   "metadata": {},
   "outputs": [
    {
     "name": "stdout",
     "output_type": "stream",
     "text": [
      "Where is 9th Atom?\n",
      "x; 0.31042835\ty: -0.03777298\tz: 0.09186311\n"
     ]
    }
   ],
   "source": [
    "frame_idx = 0\n",
    "atom_idx = 9\n",
    "print('Where is 9th Atom?')\n",
    "print('x; %s\\ty: %s\\tz: %s' %tuple(t.xyz[frame_idx, atom_idx,:]))"
   ]
  },
  {
   "cell_type": "code",
   "execution_count": 392,
   "metadata": {},
   "outputs": [
    {
     "name": "stdout",
     "output_type": "stream",
     "text": [
      "<mdtraj.Topology with 1 chains, 1 residues, 15 atoms, 14 bonds>\n",
      "P2D1-C1\n",
      "P2D1-C2\n",
      "P2D1-C3\n",
      "P2D1-C4\n",
      "P2D1-C5\n",
      "P2D1-O2\n",
      "P2D1-O4\n",
      "P2D1-H1\n",
      "P2D1-H2\n",
      "P2D1-H3\n",
      "P2D1-H4\n",
      "P2D1-H5\n",
      "P2D1-H6\n",
      "P2D1-H7\n",
      "P2D1-H8\n"
     ]
    }
   ],
   "source": [
    "t_topology=t.topology\n",
    "print(t_topology)\n",
    "\n",
    "for atom in t_topology.atoms:\n",
    "    print (atom)"
   ]
  },
  {
   "cell_type": "code",
   "execution_count": 393,
   "metadata": {
    "scrolled": true
   },
   "outputs": [],
   "source": [
    "import numpy as np\n",
    "COlist = numpy.array ([[1,5],[3,6]])\n",
    "CClist = numpy.array ([[0,1], [1,2],[2,3], [3,4]])\n",
    "C1Hlist = numpy.array ([[0,7], [0,8], [0,9]])\n",
    "C3Hlist = numpy.array ([[2,10], [2,11]])\n",
    "C5Hlist = numpy.array ([[4,12], [4,13], [4,14]])\n",
    "\n",
    "import matplotlib.pyplot as plt"
   ]
  },
  {
   "cell_type": "code",
   "execution_count": 394,
   "metadata": {
    "scrolled": true
   },
   "outputs": [
    {
     "data": {
      "image/png": "[encoded data removed]",
      "text/plain": [
       "<Figure size 432x288 with 1 Axes>"
      ]
     },
     "metadata": {
      "needs_background": "light"
     },
     "output_type": "display_data"
    }
   ],
   "source": [
    "CO_distances=(md.compute_distances(t, COlist))\n",
    "\n",
    "plt.figure()\n",
    "#plt.xlabel('Bondlenght in nm')\n",
    "#plt.ylabel('Number of Bonds')\n",
    "#plt.title('C=O bonds lenght')\n",
    "plt.hist(CO_distances, label=('C2=O2','C4=O4'))\n",
    "plt.legend()\n",
    "plt.show()"
   ]
  },
  {
   "cell_type": "code",
   "execution_count": 403,
   "metadata": {},
   "outputs": [
    {
     "data": {
      "image/png": "[encoded data removed]",
      "text/plain": [
       "<Figure size 432x288 with 1 Axes>"
      ]
     },
     "metadata": {
      "needs_background": "light"
     },
     "output_type": "display_data"
    }
   ],
   "source": [
    "CC_distances = md.compute_distances(t, CClist)\n",
    "\n",
    "plt.hist(CC_distances, label=('C1-C2','C2-C3', 'C3-C4', 'C4-C5'))\n",
    "plt.legend()\n",
    "\n",
    "plt.savefig('CC minimized.png')"
   ]
  },
  {
   "cell_type": "code",
   "execution_count": 396,
   "metadata": {},
   "outputs": [
    {
     "data": {
      "text/plain": [
       "<matplotlib.legend.Legend at 0x7f158e863490>"
      ]
     },
     "execution_count": 396,
     "metadata": {},
     "output_type": "execute_result"
    },
    {
     "data": {
      "image/png": "[encoded data removed]",
      "text/plain": [
       "<Figure size 432x288 with 1 Axes>"
      ]
     },
     "metadata": {
      "needs_background": "light"
     },
     "output_type": "display_data"
    }
   ],
   "source": [
    "C1H_distances = md.compute_distances(t, C1Hlist)\n",
    "\n",
    "figC1H = plt.hist(C1H_distances, label=('C1-H1','C1-H2', 'C1-H3'))\n",
    "plt.legend()"
   ]
  },
  {
   "cell_type": "code",
   "execution_count": 397,
   "metadata": {
    "scrolled": true
   },
   "outputs": [
    {
     "data": {
      "text/plain": [
       "<matplotlib.legend.Legend at 0x7f15d229f450>"
      ]
     },
     "execution_count": 397,
     "metadata": {},
     "output_type": "execute_result"
    },
    {
     "data": {
      "image/png": "[encoded data removed]",
      "text/plain": [
       "<Figure size 432x288 with 1 Axes>"
      ]
     },
     "metadata": {
      "needs_background": "light"
     },
     "output_type": "display_data"
    }
   ],
   "source": [
    "C3H_distances=md.compute_distances(t, C3Hlist)\n",
    "\n",
    "figC3H = plt.hist(C3H_distances, label=('C3-H4','C3-H5'))\n",
    "plt.legend()"
   ]
  },
  {
   "cell_type": "code",
   "execution_count": 398,
   "metadata": {},
   "outputs": [
    {
     "data": {
      "image/png": "[encoded data removed]",
      "text/plain": [
       "<Figure size 432x288 with 1 Axes>"
      ]
     },
     "metadata": {
      "needs_background": "light"
     },
     "output_type": "display_data"
    }
   ],
   "source": [
    "C5H_distances = md.compute_distances(t, C5Hlist)\n",
    "\n",
    "figC5H = plt.hist(C5H_distances, label=('C5-H6','C5-H7', 'C5-H8'))"
   ]
  },
  {
   "cell_type": "code",
   "execution_count": null,
   "metadata": {},
   "outputs": [],
   "source": []
  }
 ],
 "metadata": {
  "kernelspec": {
   "display_name": "Python 3",
   "language": "python",
   "name": "python3"
  },
  "language_info": {
   "codemirror_mode": {
    "name": "ipython",
    "version": 3
   },
   "file_extension": ".py",
   "mimetype": "text/x-python",
   "name": "python",
   "nbconvert_exporter": "python",
   "pygments_lexer": "ipython3",
   "version": "3.7.6"
  }
 },
 "nbformat": 4,
 "nbformat_minor": 4
}
