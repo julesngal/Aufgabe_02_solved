{
 "cells": [
  {
   "cell_type": "code",
   "execution_count": 14,
   "metadata": {},
   "outputs": [],
   "source": [
    "from simtk.openmm.app import *\n",
    "from openforcefield.utils import *"
   ]
  },
  {
   "cell_type": "code",
   "execution_count": 10,
   "metadata": {},
   "outputs": [
    {
     "name": "stdout",
     "output_type": "stream",
     "text": [
      "Acetylacetone_04_July.py       data.csv   trajectory.pdb\n",
      "Acetylacetone Exp-Copy1.ipynb  README.md\n"
     ]
    }
   ],
   "source": [
    "help(get_data_file_path)"
   ]
  },
  {
   "cell_type": "code",
   "execution_count": 12,
   "metadata": {},
   "outputs": [
    {
     "name": "stdout",
     "output_type": "stream",
     "text": [
      "<simtk.openmm.app.pdbfile.PDBFile object at 0x7f0026fab550>\n"
     ]
    }
   ],
   "source": [
    "pdb_file_path = get_data_file_path ('Acetylacetone.pdb')\n",
    "pdbfile = PDBFile (pdb_file_path)\n",
    "\n",
    "# I got the pdb file from\n",
    "# https://www.ebi.ac.uk/pdbe-srv/pdbechem/chemicalCompound/show/P2D\n",
    "# renamed it, then I manually moved it to the data directory of openforcefield."
   ]
  },
  {
   "cell_type": "code",
   "execution_count": 15,
   "metadata": {},
   "outputs": [
    {
     "ename": "ModuleNotFoundError",
     "evalue": "No module named 'openforcefield.topology'",
     "output_type": "error",
     "traceback": [
      "\u001b[0;31m---------------------------------------------------------------------------\u001b[0m",
      "\u001b[0;31mModuleNotFoundError\u001b[0m                       Traceback (most recent call last)",
      "\u001b[0;32m<ipython-input-15-2216112f0a39>\u001b[0m in \u001b[0;36m<module>\u001b[0;34m\u001b[0m\n\u001b[0;32m----> 1\u001b[0;31m \u001b[0;32mfrom\u001b[0m \u001b[0mopenforcefield\u001b[0m\u001b[0;34m.\u001b[0m\u001b[0mtopology\u001b[0m \u001b[0;32mimport\u001b[0m \u001b[0mMolecule\u001b[0m\u001b[0;34m\u001b[0m\u001b[0;34m\u001b[0m\u001b[0m\n\u001b[0m\u001b[1;32m      2\u001b[0m \u001b[0macetylacetone\u001b[0m \u001b[0;34m=\u001b[0m \u001b[0mMolecule\u001b[0m\u001b[0;34m.\u001b[0m\u001b[0mfrom_smiles\u001b[0m\u001b[0;34m(\u001b[0m\u001b[0;34m'O=C(C)CC(=O)C'\u001b[0m\u001b[0;34m)\u001b[0m\u001b[0;34m\u001b[0m\u001b[0;34m\u001b[0m\u001b[0m\n\u001b[1;32m      3\u001b[0m \u001b[0mprint\u001b[0m\u001b[0;34m(\u001b[0m\u001b[0macetylacetone\u001b[0m\u001b[0;34m)\u001b[0m\u001b[0;34m\u001b[0m\u001b[0;34m\u001b[0m\u001b[0m\n\u001b[1;32m      4\u001b[0m \u001b[0;34m\u001b[0m\u001b[0m\n\u001b[1;32m      5\u001b[0m \u001b[0;31m# I got the SMILES-code from:\u001b[0m\u001b[0;34m\u001b[0m\u001b[0;34m\u001b[0m\u001b[0;34m\u001b[0m\u001b[0m\n",
      "\u001b[0;31mModuleNotFoundError\u001b[0m: No module named 'openforcefield.topology'"
     ]
    }
   ],
   "source": [
    "from openforcefield.topology import Molecule\n",
    "acetylacetone = Molecule.from_smiles('O=C(C)CC(=O)C')\n",
    "print(acetylacetone)\n",
    "\n",
    "# I got the SMILES-code from:\n",
    "# https://en.wikipedia.org/wiki/Acetylacetone"
   ]
  },
  {
   "cell_type": "code",
   "execution_count": null,
   "metadata": {
    "scrolled": true
   },
   "outputs": [],
   "source": [
    "print (pdb_file_path)"
   ]
  },
  {
   "cell_type": "code",
   "execution_count": null,
   "metadata": {},
   "outputs": [],
   "source": [
    "from openforcefield.topology import *\n",
    "from openforcefield.typing.engines.smirnoff import ForceField\n",
    "\n",
    "omm_topology =  pdbfile.topology\n",
    "off_topology = Topology.from_openmm(omm_topology, unique_molecules=[acetylacetone])\n",
    "\n",
    "forcefield = ForceField('openff-1.0.0.offxml')\n",
    "\n",
    "system = forcefield.create_openmm_system(off_topology)\n"
   ]
  },
  {
   "cell_type": "code",
   "execution_count": null,
   "metadata": {},
   "outputs": [],
   "source": []
  },
  {
   "cell_type": "code",
   "execution_count": null,
   "metadata": {},
   "outputs": [],
   "source": [
    "from simtk import *\n",
    "\n",
    "# Langevin Dynamics:\n",
    "time_step = 2*unit.femtoseconds\n",
    "temperature = 300*unit.kelvin\n",
    "friction = 1/unit.picosecond # collision rate\n",
    "integrator = openmm.LangevinIntegrator(temperature, friction, time_step)\n",
    "\n",
    "# Lenghth of simulation:\n",
    "num_steps = 1\n",
    "\n",
    "trj_freq = 1 # number of steps per written trajectory frame\n",
    "data_freq = 1 #number of steps per fritten simulation statistics\n",
    "\n",
    "# Set up OpenMM simulation:\n",
    "simulation = openmm.app.Simulation (omm_topology, system, integrator)\n",
    "\n",
    "# initial positions:\n",
    "positions = pdbfile.getPositions()\n",
    "simulation.context.setPositions(positions)\n",
    "\n",
    "# Randomize the velocities from a Boltzmann distribution at a given temperature.\n",
    "simulation.context.setVelocitiesToTemperature(temperature)\n",
    "\n",
    "# MINIMIZE ENERGY: I deleted this line to get the non-minimized values:\n",
    "simulation.minimizeEnergy()\n",
    "minimized_coords = simulation.context.getState(getPositions=True).getPositions()\n",
    "minimized_forces = simulation.context.getState(getForces=True).getForces()\n",
    "\n",
    "# Configure information in output files:\n",
    "pdb_reporter = openmm.app.PDBReporter('trajectory.pdb', trj_freq)\n",
    "state_data_reporter = openmm.app.StateDataReporter ('data.csv', data_freq, step=True, potentialEnergy=True, temperature=True, density=True)\n",
    "simulation.reporters.append (pdb_reporter)\n",
    "simulation.reporters.append (state_data_reporter)"
   ]
  },
  {
   "cell_type": "code",
   "execution_count": null,
   "metadata": {
    "scrolled": true
   },
   "outputs": [],
   "source": []
  },
  {
   "cell_type": "code",
   "execution_count": null,
   "metadata": {},
   "outputs": [],
   "source": [
    "import time\n",
    "\n",
    "print(\"Starting simulation\")\n",
    "start = time.process_time()\n",
    "\n",
    "# Run the simulation\n",
    "simulation.step(num_steps)\n",
    "\n",
    "end = time.process_time()\n",
    "print(\"Elapsed time %.2f seconds\" % (end-start))\n",
    "print(\"Hurra!\")"
   ]
  },
  {
   "cell_type": "code",
   "execution_count": null,
   "metadata": {
    "scrolled": true
   },
   "outputs": [],
   "source": [
    "ff_applied_parameters = forcefield.label_molecules(off_topology)[0]\n",
    "ff_values=[]\n",
    "ff_valuefile = open ('ff_valuefile.txt', 'w+')\n",
    "\n",
    "for atoms, bonds in ff_applied_parameters['Bonds'].items():\n",
    "    ff_valuefile.write (F'{atoms},{bonds}')\n",
    "    ff_valuefile.write ('\\n')\n",
    "    \n",
    "ff_valuefile.close()"
   ]
  },
  {
   "cell_type": "code",
   "execution_count": null,
   "metadata": {},
   "outputs": [],
   "source": [
    "import numpy\n",
    "\n",
    "ff_valuefile = open ('ff_valuefile.txt', 'r')\n",
    "\n",
    "ff_valuetab = numpy.genfromtxt(fname=ff_valuefile, dtype='unicode', delimiter='Lenght')\n",
    "\n",
    "ff_valuefile.close\n",
    "\n",
    "man_atom_a = [0,1,1,2,2,2,3,3,3,4,4,6,6,6]\n",
    "man_atom_b = [1,2,3,7,8,9,4,10,11,5,6,12,13,14]"
   ]
  },
  {
   "cell_type": "code",
   "execution_count": null,
   "metadata": {},
   "outputs": [],
   "source": []
  },
  {
   "cell_type": "code",
   "execution_count": null,
   "metadata": {},
   "outputs": [],
   "source": [
    "import numpy\n",
    "import os\n",
    "\n",
    "mincoorfile = os.path.join('trajectory.pdb')\n",
    "\n",
    "mincoor = numpy.genfromtxt(fname=mincoorfile, skip_header=2, skip_footer=2, dtype='unicode')\n",
    "\n",
    "print (mincoor)"
   ]
  },
  {
   "cell_type": "code",
   "execution_count": null,
   "metadata": {},
   "outputs": [],
   "source": [
    "xyz_data = mincoor[:,6:9]\n",
    "xyz_data = xyz_data.astype(numpy.float)\n",
    "print (xyz_data)\n",
    "\n",
    "xa = xyz_data[man_atom_a,0]\n",
    "xb = xyz_data[man_atom_b,0]\n",
    "ya = xyz_data[man_atom_a,1]\n",
    "yb = xyz_data[man_atom_b,1]\n",
    "za = xyz_data[man_atom_a,2]\n",
    "zb = xyz_data[man_atom_b,2]"
   ]
  },
  {
   "cell_type": "code",
   "execution_count": null,
   "metadata": {},
   "outputs": [],
   "source": [
    "bondlength_min=numpy.sqrt(((xa-xb)**2)+((ya-yb)**2)+((za-zb)**2))\n",
    "\n",
    "print (bondlength_min)    "
   ]
  },
  {
   "cell_type": "code",
   "execution_count": null,
   "metadata": {},
   "outputs": [],
   "source": []
  }
 ],
 "metadata": {
  "kernelspec": {
   "display_name": "Python 3",
   "language": "python",
   "name": "python3"
  },
  "language_info": {
   "codemirror_mode": {
    "name": "ipython",
    "version": 3
   },
   "file_extension": ".py",
   "mimetype": "text/x-python",
   "name": "python",
   "nbconvert_exporter": "python",
   "pygments_lexer": "ipython3",
   "version": "3.7.6"
  }
 },
 "nbformat": 4,
 "nbformat_minor": 4
}
