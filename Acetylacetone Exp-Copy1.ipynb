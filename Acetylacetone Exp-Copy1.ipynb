{
 "cells": [
  {
   "cell_type": "code",
   "execution_count": 1,
   "metadata": {},
   "outputs": [
    {
     "name": "stderr",
     "output_type": "stream",
     "text": [
      "Warning: Unable to load toolkit 'OpenEye Toolkit'. The Open Force Field Toolkit does not require the OpenEye Toolkits, and can use RDKit/AmberTools instead. However, if you have a valid license for the OpenEye Toolkits, consider installing them for faster performance and additional file format support: https://docs.eyesopen.com/toolkits/python/quickstart-python/linuxosx.html OpenEye offers free Toolkit licenses for academics: https://www.eyesopen.com/academic-licensing\n"
     ]
    }
   ],
   "source": [
    "from simtk.openmm.app import*\n",
    "from openforcefield.utils import*"
   ]
  },
  {
   "cell_type": "code",
   "execution_count": 2,
   "metadata": {},
   "outputs": [],
   "source": [
    "from simtk.openmm.app import PDBFile\n",
    "from openforcefield.utils import get_data_file_path"
   ]
  },
  {
   "cell_type": "code",
   "execution_count": 3,
   "metadata": {},
   "outputs": [
    {
     "name": "stdout",
     "output_type": "stream",
     "text": [
      "Acetylacetone_04_July.py       Acetylacetone Exp-Copy.ipynb  README.md\r\n",
      "Acetylacetone Exp-Copy1.ipynb  Acetylacetone.pdb\r\n"
     ]
    }
   ],
   "source": [
    "ls"
   ]
  },
  {
   "cell_type": "code",
   "execution_count": 4,
   "metadata": {},
   "outputs": [
    {
     "name": "stdout",
     "output_type": "stream",
     "text": [
      "<simtk.openmm.app.pdbfile.PDBFile object at 0x7ff2e022ed90>\n"
     ]
    }
   ],
   "source": [
    "import os\n",
    "\n",
    "pdb_file_path = os.path.join('Acetylacetone.pdb')\n",
    "pdbfile = PDBFile(pdb_file_path)\n",
    "\n",
    "# I got the pdb file from\n",
    "# https://www.ebi.ac.uk/pdbe-srv/pdbechem/chemicalCompound/show/P2D\n",
    "# renamed it, then I manually moved it to the data directory of openforcefield.\n",
    "\n",
    "print(pdbfile)"
   ]
  },
  {
   "cell_type": "code",
   "execution_count": null,
   "metadata": {},
   "outputs": [],
   "source": []
  },
  {
   "cell_type": "code",
   "execution_count": 5,
   "metadata": {},
   "outputs": [
    {
     "name": "stdout",
     "output_type": "stream",
     "text": [
      "Molecule with name '' and SMILES '[H][C]([H])([H])[C](=[O])[C]([H])([H])[C](=[O])[C]([H])([H])[H]'\n"
     ]
    }
   ],
   "source": [
    "from openforcefield.topology import Molecule\n",
    "acetylacetone = Molecule.from_smiles('O=C(C)CC(=O)C')\n",
    "print(acetylacetone)\n",
    "\n",
    "# I got the SMILES-code from:\n",
    "# https://en.wikipedia.org/wiki/Acetylacetone"
   ]
  },
  {
   "cell_type": "code",
   "execution_count": 6,
   "metadata": {
    "scrolled": true
   },
   "outputs": [
    {
     "name": "stdout",
     "output_type": "stream",
     "text": [
      "Acetylacetone.pdb\n"
     ]
    }
   ],
   "source": [
    "print (pdb_file_path)"
   ]
  },
  {
   "cell_type": "code",
   "execution_count": 7,
   "metadata": {},
   "outputs": [
    {
     "name": "stderr",
     "output_type": "stream",
     "text": [
      "Warning: In AmberToolsToolkitwrapper.compute_partial_charges_am1bcc: Molecule '' has more than one conformer, but this function will only generate charges for the first one.\n"
     ]
    }
   ],
   "source": [
    "from openforcefield.topology import *\n",
    "from openforcefield.typing.engines.smirnoff import ForceField\n",
    "\n",
    "omm_topology =  pdbfile.topology\n",
    "off_topology = Topology.from_openmm(omm_topology, unique_molecules=[acetylacetone])\n",
    "\n",
    "forcefield = ForceField('openff-1.0.0.offxml')\n",
    "\n",
    "system = forcefield.create_openmm_system(off_topology)\n"
   ]
  },
  {
   "cell_type": "code",
   "execution_count": null,
   "metadata": {},
   "outputs": [],
   "source": []
  },
  {
   "cell_type": "code",
   "execution_count": 27,
   "metadata": {},
   "outputs": [],
   "source": [
    "from simtk import *\n",
    "\n",
    "# Langevin Dynamics:\n",
    "time_step = 2*unit.femtoseconds\n",
    "temperature = 300*unit.kelvin\n",
    "friction = 1/unit.picosecond # collision rate\n",
    "integrator = openmm.LangevinIntegrator(temperature, friction, time_step)\n",
    "\n",
    "# Lenghth of simulation:\n",
    "num_steps = 1\n",
    "\n",
    "trj_freq = 1 # number of steps per written trajectory frame\n",
    "data_freq = 1 #number of steps per fritten simulation statistics\n",
    "\n",
    "# Set up OpenMM simulation:\n",
    "simulation = openmm.app.Simulation (omm_topology, system, integrator)\n",
    "\n",
    "# initial positions:\n",
    "positions = pdbfile.getPositions()\n",
    "simulation.context.setPositions(positions)\n",
    "\n",
    "# Randomize the velocities from a Boltzmann distribution at a given temperature.\n",
    "simulation.context.setVelocitiesToTemperature(temperature)\n",
    "\n",
    "# MINIMIZE ENERGY: I deleted this line to get the non-minimized values:\n",
    "simulation.minimizeEnergy()\n",
    "minimized_coords = simulation.context.getState(getPositions=True).getPositions()\n",
    "minimized_forces = simulation.context.getState(getForces=True).getForces()\n",
    "\n",
    "# Configure information in output files:\n",
    "#pdb_reporter = openmm.app.PDBReporter('trajectory.pdb', trj_freq)\n",
    "#state_data_reporter = openmm.app.StateDataReporter ('data.csv', data_freq, step=True, potentialEnergy=True, temperature=True, density=True)\n",
    "#simulation.reporters.append (pdb_reporter)\n",
    "#simulation.reporters.append (state_data_reporter)\n",
    "DCDReporter = openmm.app.DCDReporter ('traj.dcd', reportInterval=1)\n",
    "simulation.reporters.append (DCDReporter)"
   ]
  },
  {
   "cell_type": "code",
   "execution_count": 9,
   "metadata": {
    "scrolled": true
   },
   "outputs": [
    {
     "name": "stdout",
     "output_type": "stream",
     "text": [
      "Help on class DCDReporter in module simtk.openmm.app.dcdreporter:\n",
      "\n",
      "class DCDReporter(builtins.object)\n",
      " |  DCDReporter(file, reportInterval, append=False, enforcePeriodicBox=None)\n",
      " |  \n",
      " |  DCDReporter outputs a series of frames from a Simulation to a DCD file.\n",
      " |  \n",
      " |  To use it, create a DCDReporter, then add it to the Simulation's list of reporters.\n",
      " |  \n",
      " |  Methods defined here:\n",
      " |  \n",
      " |  __del__(self)\n",
      " |  \n",
      " |  __init__(self, file, reportInterval, append=False, enforcePeriodicBox=None)\n",
      " |      Create a DCDReporter.\n",
      " |      \n",
      " |      Parameters\n",
      " |      ----------\n",
      " |      file : string\n",
      " |          The file to write to\n",
      " |      reportInterval : int\n",
      " |          The interval (in time steps) at which to write frames\n",
      " |      append : bool=False\n",
      " |          If True, open an existing DCD file to append to.  If False, create a new file.\n",
      " |      enforcePeriodicBox: bool\n",
      " |          Specifies whether particle positions should be translated so the center of every molecule\n",
      " |          lies in the same periodic box.  If None (the default), it will automatically decide whether\n",
      " |          to translate molecules based on whether the system being simulated uses periodic boundary\n",
      " |          conditions.\n",
      " |  \n",
      " |  describeNextReport(self, simulation)\n",
      " |      Get information about the next report this object will generate.\n",
      " |      \n",
      " |      Parameters\n",
      " |      ----------\n",
      " |      simulation : Simulation\n",
      " |          The Simulation to generate a report for\n",
      " |      \n",
      " |      Returns\n",
      " |      -------\n",
      " |      tuple\n",
      " |          A six element tuple. The first element is the number of steps\n",
      " |          until the next report. The next four elements specify whether\n",
      " |          that report will require positions, velocities, forces, and\n",
      " |          energies respectively.  The final element specifies whether\n",
      " |          positions should be wrapped to lie in a single periodic box.\n",
      " |  \n",
      " |  report(self, simulation, state)\n",
      " |      Generate a report.\n",
      " |      \n",
      " |      Parameters\n",
      " |      ----------\n",
      " |      simulation : Simulation\n",
      " |          The Simulation to generate a report for\n",
      " |      state : State\n",
      " |          The current state of the simulation\n",
      " |  \n",
      " |  ----------------------------------------------------------------------\n",
      " |  Data descriptors defined here:\n",
      " |  \n",
      " |  __dict__\n",
      " |      dictionary for instance variables (if defined)\n",
      " |  \n",
      " |  __weakref__\n",
      " |      list of weak references to the object (if defined)\n",
      "\n"
     ]
    }
   ],
   "source": [
    "help (openmm.app.DCDReporter)"
   ]
  },
  {
   "cell_type": "code",
   "execution_count": 28,
   "metadata": {},
   "outputs": [
    {
     "name": "stdout",
     "output_type": "stream",
     "text": [
      "Starting simulation\n",
      "Elapsed time 0.00 seconds\n",
      "Hurra!\n"
     ]
    }
   ],
   "source": [
    "import time\n",
    "\n",
    "print(\"Starting simulation\")\n",
    "start = time.process_time()\n",
    "\n",
    "# Run the simulation\n",
    "simulation.step(num_steps)\n",
    "\n",
    "end = time.process_time()\n",
    "print(\"Elapsed time %.2f seconds\" % (end-start))\n",
    "print(\"Hurra!\")"
   ]
  },
  {
   "cell_type": "code",
   "execution_count": 11,
   "metadata": {
    "scrolled": true
   },
   "outputs": [],
   "source": [
    "ff_applied_parameters = forcefield.label_molecules(off_topology)[0]\n",
    "ff_values=[]\n",
    "ff_valuefile = open ('ff_valuefile.txt', 'w+')\n",
    "\n",
    "for atoms, bonds in ff_applied_parameters['Bonds'].items():\n",
    "    ff_valuefile.write (F'{atoms},{bonds}')\n",
    "    ff_valuefile.write ('\\n')\n",
    "    \n",
    "ff_valuefile.close()"
   ]
  },
  {
   "cell_type": "code",
   "execution_count": 12,
   "metadata": {},
   "outputs": [],
   "source": [
    "import numpy\n",
    "\n",
    "ff_valuefile = open ('ff_valuefile.txt', 'r')\n",
    "\n",
    "ff_valuetab = numpy.genfromtxt(fname=ff_valuefile, dtype='unicode', delimiter='Lenght')\n",
    "\n",
    "ff_valuefile.close\n",
    "\n",
    "man_atom_a = [0,1,1,2,2,2,3,3,3,4,4,6,6,6]\n",
    "man_atom_b = [1,2,3,7,8,9,4,10,11,5,6,12,13,14]"
   ]
  },
  {
   "cell_type": "code",
   "execution_count": null,
   "metadata": {},
   "outputs": [],
   "source": []
  },
  {
   "cell_type": "code",
   "execution_count": 13,
   "metadata": {},
   "outputs": [
    {
     "name": "stdout",
     "output_type": "stream",
     "text": [
      "[['HETATM' '1' 'C1' 'P2D' 'A' '1' '2.270' '-0.180' '0.038' '1.00' '0.00'\n",
      "  'C']\n",
      " ['HETATM' '2' 'C2' 'P2D' 'A' '1' '1.024' '-0.840' '-0.556' '1.00' '0.00'\n",
      "  'C']\n",
      " ['HETATM' '3' 'C3' 'P2D' 'A' '1' '-0.022' '-1.458' '0.330' '1.00' '0.00'\n",
      "  'C']\n",
      " ['HETATM' '4' 'C4' 'P2D' 'A' '1' '-1.029' '-0.391' '0.594' '1.00' '0.00'\n",
      "  'C']\n",
      " ['HETATM' '5' 'C5' 'P2D' 'A' '1' '-2.247' '-0.216' '-0.280' '1.00'\n",
      "  '0.00' 'C']\n",
      " ['HETATM' '6' 'O2' 'P2D' 'A' '1' '0.861' '-0.814' '-1.775' '1.00' '0.00'\n",
      "  'O']\n",
      " ['HETATM' '7' 'O4' 'P2D' 'A' '1' '-0.828' '0.378' '1.529' '1.00' '0.00'\n",
      "  'O']\n",
      " ['HETATM' '8' 'H1' 'P2D' 'A' '1' '2.787' '-0.894' '0.683' '1.00' '0.00'\n",
      "  'H']\n",
      " ['HETATM' '9' 'H2' 'P2D' 'A' '1' '2.875' '0.194' '-0.792' '1.00' '0.00'\n",
      "  'H']\n",
      " ['HETATM' '10' 'H3' 'P2D' 'A' '1' '1.972' '0.706' '0.605' '1.00' '0.00'\n",
      "  'H']\n",
      " ['HETATM' '11' 'H4' 'P2D' 'A' '1' '-0.474' '-2.318' '-0.171' '1.00'\n",
      "  '0.00' 'H']\n",
      " ['HETATM' '12' 'H5' 'P2D' 'A' '1' '0.434' '-1.829' '1.252' '1.00' '0.00'\n",
      "  'H']\n",
      " ['HETATM' '13' 'H6' 'P2D' 'A' '1' '-2.906' '-1.087' '-0.227' '1.00'\n",
      "  '0.00' 'H']\n",
      " ['HETATM' '14' 'H7' 'P2D' 'A' '1' '-2.875' '0.602' '0.080' '1.00' '0.00'\n",
      "  'H']\n",
      " ['HETATM' '15' 'H8' 'P2D' 'A' '1' '-1.949' '-0.073' '-1.321' '1.00'\n",
      "  '0.00' 'H']]\n"
     ]
    }
   ],
   "source": [
    "import numpy\n",
    "import os\n",
    "\n",
    "mincoorfile = os.path.join('trajectory.pdb')\n",
    "\n",
    "mincoor = numpy.genfromtxt(fname=mincoorfile, skip_header=2, skip_footer=2, dtype='unicode')\n",
    "\n",
    "print (mincoor)"
   ]
  },
  {
   "cell_type": "code",
   "execution_count": 14,
   "metadata": {},
   "outputs": [
    {
     "name": "stdout",
     "output_type": "stream",
     "text": [
      "[[ 2.27  -0.18   0.038]\n",
      " [ 1.024 -0.84  -0.556]\n",
      " [-0.022 -1.458  0.33 ]\n",
      " [-1.029 -0.391  0.594]\n",
      " [-2.247 -0.216 -0.28 ]\n",
      " [ 0.861 -0.814 -1.775]\n",
      " [-0.828  0.378  1.529]\n",
      " [ 2.787 -0.894  0.683]\n",
      " [ 2.875  0.194 -0.792]\n",
      " [ 1.972  0.706  0.605]\n",
      " [-0.474 -2.318 -0.171]\n",
      " [ 0.434 -1.829  1.252]\n",
      " [-2.906 -1.087 -0.227]\n",
      " [-2.875  0.602  0.08 ]\n",
      " [-1.949 -0.073 -1.321]]\n"
     ]
    }
   ],
   "source": [
    "xyz_data = mincoor[:,6:9]\n",
    "xyz_data = xyz_data.astype(numpy.float)\n",
    "print (xyz_data)\n",
    "\n",
    "xa = xyz_data[man_atom_a,0]\n",
    "xb = xyz_data[man_atom_b,0]\n",
    "ya = xyz_data[man_atom_a,1]\n",
    "yb = xyz_data[man_atom_b,1]\n",
    "za = xyz_data[man_atom_a,2]\n",
    "zb = xyz_data[man_atom_b,2]"
   ]
  },
  {
   "cell_type": "code",
   "execution_count": 15,
   "metadata": {},
   "outputs": [
    {
     "name": "stdout",
     "output_type": "stream",
     "text": [
      "[1.53001699 1.50367417 2.39560222 2.88672583 3.51860725 2.9554284\n",
      " 1.50931276 2.14629425 2.15433911 3.50032756 2.37463218 3.08995874\n",
      " 2.51793288 3.09556812]\n"
     ]
    }
   ],
   "source": [
    "bondlength_min=numpy.sqrt(((xa-xb)**2)+((ya-yb)**2)+((za-zb)**2))\n",
    "\n",
    "print (bondlength_min)    "
   ]
  },
  {
   "cell_type": "code",
   "execution_count": 29,
   "metadata": {},
   "outputs": [
    {
     "name": "stdout",
     "output_type": "stream",
     "text": [
      "<mdtraj.Trajectory with 1 frames, 15 atoms, 1 residues, without unitcells>\n"
     ]
    }
   ],
   "source": [
    "import mdtraj as md\n",
    "\n",
    "t = md.load('traj.dcd', top='Acetylacetone.pdb')\n",
    "print (t)"
   ]
  },
  {
   "cell_type": "code",
   "execution_count": 40,
   "metadata": {},
   "outputs": [
    {
     "name": "stdout",
     "output_type": "stream",
     "text": [
      "How many atoms 15\n",
      "1\n"
     ]
    }
   ],
   "source": [
    "from __future__ import print_function\n",
    "print ('How many atoms %s' %t.n_atoms)\n",
    "print (t.n_residues)"
   ]
  },
  {
   "cell_type": "code",
   "execution_count": 43,
   "metadata": {},
   "outputs": [
    {
     "name": "stdout",
     "output_type": "stream",
     "text": [
      "Where is 9th Atom\n",
      "x; 0.19394386\ty: 0.06841549\tz: 0.06106008\n"
     ]
    }
   ],
   "source": [
    "frame_idx = 0\n",
    "atom_idx = 9\n",
    "print ('Where is 9th Atom')\n",
    "print ('x; %s\\ty: %s\\tz: %s' %tuple(t.xyz[frame_idx, atom_idx,:]))"
   ]
  },
  {
   "cell_type": "code",
   "execution_count": null,
   "metadata": {},
   "outputs": [],
   "source": []
  }
 ],
 "metadata": {
  "kernelspec": {
   "display_name": "Python 3",
   "language": "python",
   "name": "python3"
  },
  "language_info": {
   "codemirror_mode": {
    "name": "ipython",
    "version": 3
   },
   "file_extension": ".py",
   "mimetype": "text/x-python",
   "name": "python",
   "nbconvert_exporter": "python",
   "pygments_lexer": "ipython3",
   "version": "3.7.7"
  }
 },
 "nbformat": 4,
 "nbformat_minor": 4
}
